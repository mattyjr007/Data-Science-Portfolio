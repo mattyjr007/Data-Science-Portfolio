{
 "cells": [
  {
   "cell_type": "markdown",
   "id": "177392fa-c8e1-4a88-8945-0ddedc340b6a",
   "metadata": {},
   "source": [
    "## Data preparation"
   ]
  },
  {
   "cell_type": "code",
   "execution_count": 1,
   "id": "e3c1b610-ff48-42e9-bdbe-1a7d985ec448",
   "metadata": {
    "execution": {
     "iopub.execute_input": "2022-03-20T08:33:40.752123Z",
     "iopub.status.busy": "2022-03-20T08:33:40.752123Z",
     "iopub.status.idle": "2022-03-20T08:34:15.600255Z",
     "shell.execute_reply": "2022-03-20T08:34:15.598244Z",
     "shell.execute_reply.started": "2022-03-20T08:33:40.752123Z"
    }
   },
   "outputs": [],
   "source": [
    "import pandas as pd\n",
    "import numpy as np\n",
    "import seaborn as sns\n",
    "import matplotlib.pyplot as plt\n",
    "sns.set_style('darkgrid')\n",
    "flatui = [\"#9b59b6\", \"#3498db\", \"#95a5a6\", \"#e74c3c\", \"#34495e\", \"#2ecc71\"]\n",
    "sns.set_palette(flatui)\n",
    "import plotly.express as px\n",
    "import plotly.io as pio"
   ]
  },
  {
   "cell_type": "code",
   "execution_count": 2,
   "id": "9715c3ab-3462-483c-8330-7f1b422a820d",
   "metadata": {
    "execution": {
     "iopub.execute_input": "2022-03-20T08:34:42.624658Z",
     "iopub.status.busy": "2022-03-20T08:34:42.623661Z",
     "iopub.status.idle": "2022-03-20T08:34:44.771258Z",
     "shell.execute_reply": "2022-03-20T08:34:44.770386Z",
     "shell.execute_reply.started": "2022-03-20T08:34:42.623661Z"
    }
   },
   "outputs": [],
   "source": [
    "data = pd.read_stata('ca_indresp_w_POLS0010.dta')"
   ]
  },
  {
   "cell_type": "code",
   "execution_count": 3,
   "id": "2c1a09c1-ab67-4b8c-b7c6-fdf61ab50fb7",
   "metadata": {
    "execution": {
     "iopub.execute_input": "2022-03-20T08:34:49.213892Z",
     "iopub.status.busy": "2022-03-20T08:34:49.212893Z",
     "iopub.status.idle": "2022-03-20T08:34:49.558033Z",
     "shell.execute_reply": "2022-03-20T08:34:49.558033Z",
     "shell.execute_reply.started": "2022-03-20T08:34:49.213892Z"
    }
   },
   "outputs": [
    {
     "data": {
      "text/html": [
       "<div>\n",
       "<style scoped>\n",
       "    .dataframe tbody tr th:only-of-type {\n",
       "        vertical-align: middle;\n",
       "    }\n",
       "\n",
       "    .dataframe tbody tr th {\n",
       "        vertical-align: top;\n",
       "    }\n",
       "\n",
       "    .dataframe thead th {\n",
       "        text-align: right;\n",
       "    }\n",
       "</style>\n",
       "<table border=\"1\" class=\"dataframe\">\n",
       "  <thead>\n",
       "    <tr style=\"text-align: right;\">\n",
       "      <th></th>\n",
       "      <th>pidp</th>\n",
       "      <th>psu</th>\n",
       "      <th>strata</th>\n",
       "      <th>birthy</th>\n",
       "      <th>racel_dv</th>\n",
       "      <th>bornuk_dv</th>\n",
       "      <th>ca_age</th>\n",
       "      <th>ca_sex</th>\n",
       "      <th>ca_couple</th>\n",
       "      <th>ca_hhcompa</th>\n",
       "      <th>...</th>\n",
       "      <th>ca_sempgovt</th>\n",
       "      <th>ca_keyworker</th>\n",
       "      <th>ca_wah</th>\n",
       "      <th>ca_timechcare</th>\n",
       "      <th>ca_auditc1_cv</th>\n",
       "      <th>ca_auditc3_cv</th>\n",
       "      <th>ca_smoker</th>\n",
       "      <th>ca_scghq1_dv</th>\n",
       "      <th>ca_gor_dv</th>\n",
       "      <th>ca_betaindin_xw</th>\n",
       "    </tr>\n",
       "  </thead>\n",
       "  <tbody>\n",
       "    <tr>\n",
       "      <th>0</th>\n",
       "      <td>76165</td>\n",
       "      <td>19</td>\n",
       "      <td>6</td>\n",
       "      <td>1982</td>\n",
       "      <td>british/english/scottish/welsh/northern irish ...</td>\n",
       "      <td>born in uk</td>\n",
       "      <td>37</td>\n",
       "      <td>Female</td>\n",
       "      <td>Yes</td>\n",
       "      <td>2+</td>\n",
       "      <td>...</td>\n",
       "      <td>Inapplicable</td>\n",
       "      <td>No</td>\n",
       "      <td>Always</td>\n",
       "      <td>20</td>\n",
       "      <td>No</td>\n",
       "      <td>Inapplicable</td>\n",
       "      <td>No</td>\n",
       "      <td>12</td>\n",
       "      <td>West Midlands</td>\n",
       "      <td>0.000000</td>\n",
       "    </tr>\n",
       "    <tr>\n",
       "      <th>1</th>\n",
       "      <td>280165</td>\n",
       "      <td>67</td>\n",
       "      <td>15</td>\n",
       "      <td>1979</td>\n",
       "      <td>british/english/scottish/welsh/northern irish ...</td>\n",
       "      <td>born in uk</td>\n",
       "      <td>40</td>\n",
       "      <td>Female</td>\n",
       "      <td>Yes</td>\n",
       "      <td>0</td>\n",
       "      <td>...</td>\n",
       "      <td>Inapplicable</td>\n",
       "      <td>No</td>\n",
       "      <td>Never</td>\n",
       "      <td>10</td>\n",
       "      <td>Yes</td>\n",
       "      <td>2-3 times per week</td>\n",
       "      <td>No</td>\n",
       "      <td>6</td>\n",
       "      <td>South East</td>\n",
       "      <td>0.537904</td>\n",
       "    </tr>\n",
       "    <tr>\n",
       "      <th>2</th>\n",
       "      <td>469205</td>\n",
       "      <td>106</td>\n",
       "      <td>25</td>\n",
       "      <td>1990</td>\n",
       "      <td>british/english/scottish/welsh/northern irish ...</td>\n",
       "      <td>born in uk</td>\n",
       "      <td>30</td>\n",
       "      <td>Female</td>\n",
       "      <td>No</td>\n",
       "      <td>2+</td>\n",
       "      <td>...</td>\n",
       "      <td>Inapplicable</td>\n",
       "      <td>Yes</td>\n",
       "      <td>Never</td>\n",
       "      <td>90</td>\n",
       "      <td>Yes</td>\n",
       "      <td>2-4 times in total</td>\n",
       "      <td>No</td>\n",
       "      <td>18</td>\n",
       "      <td>East Midlands</td>\n",
       "      <td>0.000000</td>\n",
       "    </tr>\n",
       "    <tr>\n",
       "      <th>3</th>\n",
       "      <td>599765</td>\n",
       "      <td>130</td>\n",
       "      <td>33</td>\n",
       "      <td>1986</td>\n",
       "      <td>british/english/scottish/welsh/northern irish ...</td>\n",
       "      <td>born in uk</td>\n",
       "      <td>33</td>\n",
       "      <td>Female</td>\n",
       "      <td>Yes</td>\n",
       "      <td>0</td>\n",
       "      <td>...</td>\n",
       "      <td>Inapplicable</td>\n",
       "      <td>Yes</td>\n",
       "      <td>Always</td>\n",
       "      <td>Inapplicable</td>\n",
       "      <td>No</td>\n",
       "      <td>Inapplicable</td>\n",
       "      <td>No</td>\n",
       "      <td>7</td>\n",
       "      <td>West Midlands</td>\n",
       "      <td>0.322060</td>\n",
       "    </tr>\n",
       "    <tr>\n",
       "      <th>4</th>\n",
       "      <td>732365</td>\n",
       "      <td>157</td>\n",
       "      <td>43</td>\n",
       "      <td>1985</td>\n",
       "      <td>british/english/scottish/welsh/northern irish ...</td>\n",
       "      <td>born in uk</td>\n",
       "      <td>34</td>\n",
       "      <td>Male</td>\n",
       "      <td>No</td>\n",
       "      <td>0</td>\n",
       "      <td>...</td>\n",
       "      <td>Inapplicable</td>\n",
       "      <td>Inapplicable</td>\n",
       "      <td>Inapplicable</td>\n",
       "      <td>Inapplicable</td>\n",
       "      <td>No</td>\n",
       "      <td>Inapplicable</td>\n",
       "      <td>Yes</td>\n",
       "      <td>22</td>\n",
       "      <td>North West</td>\n",
       "      <td>2.375521</td>\n",
       "    </tr>\n",
       "  </tbody>\n",
       "</table>\n",
       "<p>5 rows × 29 columns</p>\n",
       "</div>"
      ],
      "text/plain": [
       "     pidp  psu strata birthy  \\\n",
       "0   76165   19      6   1982   \n",
       "1  280165   67     15   1979   \n",
       "2  469205  106     25   1990   \n",
       "3  599765  130     33   1986   \n",
       "4  732365  157     43   1985   \n",
       "\n",
       "                                            racel_dv   bornuk_dv ca_age  \\\n",
       "0  british/english/scottish/welsh/northern irish ...  born in uk     37   \n",
       "1  british/english/scottish/welsh/northern irish ...  born in uk     40   \n",
       "2  british/english/scottish/welsh/northern irish ...  born in uk     30   \n",
       "3  british/english/scottish/welsh/northern irish ...  born in uk     33   \n",
       "4  british/english/scottish/welsh/northern irish ...  born in uk     34   \n",
       "\n",
       "   ca_sex ca_couple ca_hhcompa  ...   ca_sempgovt  ca_keyworker        ca_wah  \\\n",
       "0  Female       Yes         2+  ...  Inapplicable            No        Always   \n",
       "1  Female       Yes          0  ...  Inapplicable            No         Never   \n",
       "2  Female        No         2+  ...  Inapplicable           Yes         Never   \n",
       "3  Female       Yes          0  ...  Inapplicable           Yes        Always   \n",
       "4    Male        No          0  ...  Inapplicable  Inapplicable  Inapplicable   \n",
       "\n",
       "  ca_timechcare ca_auditc1_cv       ca_auditc3_cv ca_smoker ca_scghq1_dv  \\\n",
       "0            20            No        Inapplicable        No           12   \n",
       "1            10           Yes  2-3 times per week        No            6   \n",
       "2            90           Yes  2-4 times in total        No           18   \n",
       "3  Inapplicable            No        Inapplicable        No            7   \n",
       "4  Inapplicable            No        Inapplicable       Yes           22   \n",
       "\n",
       "       ca_gor_dv ca_betaindin_xw  \n",
       "0  West Midlands        0.000000  \n",
       "1     South East        0.537904  \n",
       "2  East Midlands        0.000000  \n",
       "3  West Midlands        0.322060  \n",
       "4     North West        2.375521  \n",
       "\n",
       "[5 rows x 29 columns]"
      ]
     },
     "execution_count": 3,
     "metadata": {},
     "output_type": "execute_result"
    }
   ],
   "source": [
    "data.head()"
   ]
  },
  {
   "cell_type": "code",
   "execution_count": 4,
   "id": "85d3c259-7293-4a65-9767-e257b81e0db4",
   "metadata": {
    "execution": {
     "iopub.execute_input": "2022-03-20T08:38:20.781444Z",
     "iopub.status.busy": "2022-03-20T08:38:20.781444Z",
     "iopub.status.idle": "2022-03-20T08:38:21.449577Z",
     "shell.execute_reply": "2022-03-20T08:38:21.446646Z",
     "shell.execute_reply.started": "2022-03-20T08:38:20.781444Z"
    }
   },
   "outputs": [
    {
     "name": "stdout",
     "output_type": "stream",
     "text": [
      "<class 'pandas.core.frame.DataFrame'>\n",
      "Int64Index: 17452 entries, 0 to 17451\n",
      "Data columns (total 29 columns):\n",
      " #   Column           Non-Null Count  Dtype   \n",
      "---  ------           --------------  -----   \n",
      " 0   pidp             17452 non-null  int32   \n",
      " 1   psu              17452 non-null  category\n",
      " 2   strata           17452 non-null  category\n",
      " 3   birthy           17452 non-null  category\n",
      " 4   racel_dv         17452 non-null  category\n",
      " 5   bornuk_dv        17452 non-null  category\n",
      " 6   ca_age           17452 non-null  category\n",
      " 7   ca_sex           17452 non-null  category\n",
      " 8   ca_couple        17452 non-null  category\n",
      " 9   ca_hhcompa       17452 non-null  category\n",
      " 10  ca_hhcompb       17452 non-null  category\n",
      " 11  ca_hhcompc       17452 non-null  category\n",
      " 12  ca_hadsymp       17452 non-null  category\n",
      " 13  ca_tested        17452 non-null  category\n",
      " 14  ca_testresult    17452 non-null  category\n",
      " 15  ca_hcond_cv96    17452 non-null  category\n",
      " 16  ca_sclonely_cv   17452 non-null  category\n",
      " 17  ca_blwork        17452 non-null  category\n",
      " 18  ca_furlough      17452 non-null  category\n",
      " 19  ca_sempgovt      17452 non-null  category\n",
      " 20  ca_keyworker     17452 non-null  category\n",
      " 21  ca_wah           17452 non-null  category\n",
      " 22  ca_timechcare    17452 non-null  category\n",
      " 23  ca_auditc1_cv    17452 non-null  category\n",
      " 24  ca_auditc3_cv    17452 non-null  category\n",
      " 25  ca_smoker        17452 non-null  category\n",
      " 26  ca_scghq1_dv     17452 non-null  category\n",
      " 27  ca_gor_dv        17452 non-null  category\n",
      " 28  ca_betaindin_xw  17452 non-null  category\n",
      "dtypes: category(28), int32(1)\n",
      "memory usage: 1.6 MB\n"
     ]
    }
   ],
   "source": [
    "data.info()"
   ]
  },
  {
   "cell_type": "code",
   "execution_count": 7,
   "id": "b90f1a67-9a18-4f6b-a76c-8e92ed0b6144",
   "metadata": {
    "execution": {
     "iopub.execute_input": "2022-03-20T08:42:10.949598Z",
     "iopub.status.busy": "2022-03-20T08:42:10.949598Z",
     "iopub.status.idle": "2022-03-20T08:42:11.156977Z",
     "shell.execute_reply": "2022-03-20T08:42:11.156009Z",
     "shell.execute_reply.started": "2022-03-20T08:42:10.949598Z"
    },
    "tags": []
   },
   "outputs": [
    {
     "data": {
      "text/plain": [
       "[20, 10, 90, 'Inapplicable', 0, ..., 78, 13, 47, 95, 34]\n",
       "Length: 93\n",
       "Categories (93, object): ['Missing' < 'Inapplicable' < 'Refusal' < 'Don't know' ... 126 < 138 < 140 < 144]"
      ]
     },
     "execution_count": 7,
     "metadata": {},
     "output_type": "execute_result"
    }
   ],
   "source": [
    "data.ca_timechcare.unique()"
   ]
  },
  {
   "cell_type": "code",
   "execution_count": 9,
   "id": "42e1ec6a-794b-423f-8239-9683b2bd04ec",
   "metadata": {
    "execution": {
     "iopub.execute_input": "2022-03-20T08:47:47.002978Z",
     "iopub.status.busy": "2022-03-20T08:47:47.001953Z",
     "iopub.status.idle": "2022-03-20T08:47:47.023400Z",
     "shell.execute_reply": "2022-03-20T08:47:47.022425Z",
     "shell.execute_reply.started": "2022-03-20T08:47:47.002978Z"
    },
    "tags": []
   },
   "outputs": [
    {
     "data": {
      "text/plain": [
       "[12, 6, 18, 7, 22, ..., 24, 33, 35, 31, 32]\n",
       "Length: 38\n",
       "Categories (38, object): ['Missing' < 0 < 1 < 2 ... 33 < 34 < 35 < 36]"
      ]
     },
     "execution_count": 9,
     "metadata": {},
     "output_type": "execute_result"
    }
   ],
   "source": [
    "data.ca_scghq1_dv.unique()"
   ]
  },
  {
   "cell_type": "code",
   "execution_count": null,
   "id": "654dfefe-c30a-4bc1-b92e-0b0017cd9045",
   "metadata": {},
   "outputs": [],
   "source": []
  }
 ],
 "metadata": {
  "kernelspec": {
   "display_name": "Python 3",
   "language": "python",
   "name": "python3"
  },
  "language_info": {
   "codemirror_mode": {
    "name": "ipython",
    "version": 3
   },
   "file_extension": ".py",
   "mimetype": "text/x-python",
   "name": "python",
   "nbconvert_exporter": "python",
   "pygments_lexer": "ipython3",
   "version": "3.8.10"
  }
 },
 "nbformat": 4,
 "nbformat_minor": 5
}
