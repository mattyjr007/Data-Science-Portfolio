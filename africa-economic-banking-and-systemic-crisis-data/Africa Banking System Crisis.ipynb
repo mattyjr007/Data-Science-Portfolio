{
  "cells": [
    {
      "cell_type": "markdown",
      "source": [
        "# Africa Economic, Banking and Systemic Crisis Data\n",
        "\n",
        "The dataset specifically focuses on the Banking, Debt, Financial, Inflation and Systemic Crises that occurred, from 1860 to 2014, in 13 African countries,\n",
        "including: Algeria, Angola, Central African Republic, Ivory Coast, Egypt, Kenya, Mauritius, Morocco, Nigeria, South Africa, Tunisia, Zambia and Zimbabwe.\n",
        "\n",
        "* case: A number which denotes a specific country\n",
        "* cc3: A three letter country code\n",
        "* country: The name of the country\n",
        "* year: The year of the observation\n",
        "* systemic_crisis: \"0\" means that no systemic crisis occurred in the year and \"1\" means that a systemic crisis occurred in the year.\n",
        "* exch_usd: The exchange rate of the country vis-a-vis the USD\n",
        "* domestic_debt_in_default: \"0\" means that no sovereign domestic debt default occurred in the year and \"1\" means that a sovereign domestic debt default occurred in the year\n",
        "* sovereign_external_debt_default: \"0\" means that no sovereign external debt default occurred in the year and \"1\" means that a sovereign external debt default occurred in the year\n",
        "* gdp_weighted_default: The total debt in default vis-a-vis the GDP\n",
        "* inflation_annual_cpi: The annual CPI Inflation rate\n",
        "* independence: \"0\" means \"no independence\" and \"1\" means \"independence\"\n",
        "* currency_crises: \"0\" means that no currency crisis occurred in the year and \"1\" means that a currency crisis occurred in the year\n",
        "* inflation_crises: \"0\" means that no inflation crisis occurred in the year and \"1\" means that an inflation crisis occurred in the year\n",
        "* banking_crisis: \"no_crisis\" means that no banking crisis occurred in the year and \"crisis\" means that a banking crisis occurred in the year\n",
        "\n"
      ],
      "metadata": {}
    },
    {
      "cell_type": "markdown",
      "source": [
        "## import dataset"
      ],
      "metadata": {}
    },
    {
      "cell_type": "code",
      "source": [
        "import warnings\n",
        "warnings.filterwarnings('ignore')\n",
        "import numpy as np\n",
        "import pandas as pd\n",
        "import seaborn as sns\n",
        "import matplotlib . pyplot as plt\n",
        "sns.set_style('darkgrid')\n",
        "flatui = [\"#9b59b6\", \"#3498db\", \"#95a5a6\", \"#e74c3c\", \"#34495e\", \"#2ecc71\"]\n",
        "sns.set_palette(flatui)"
      ],
      "outputs": [],
      "execution_count": 1,
      "metadata": {}
    },
    {
      "cell_type": "code",
      "source": [
        "data = pd.read_csv('african_crises.csv')"
      ],
      "outputs": [],
      "execution_count": 2,
      "metadata": {}
    },
    {
      "cell_type": "code",
      "source": [
        "data.head()"
      ],
      "outputs": [
        {
          "output_type": "execute_result",
          "execution_count": 3,
          "data": {
            "text/html": [
              "<div>\n",
              "<style scoped>\n",
              "    .dataframe tbody tr th:only-of-type {\n",
              "        vertical-align: middle;\n",
              "    }\n",
              "\n",
              "    .dataframe tbody tr th {\n",
              "        vertical-align: top;\n",
              "    }\n",
              "\n",
              "    .dataframe thead th {\n",
              "        text-align: right;\n",
              "    }\n",
              "</style>\n",
              "<table border=\"1\" class=\"dataframe\">\n",
              "  <thead>\n",
              "    <tr style=\"text-align: right;\">\n",
              "      <th></th>\n",
              "      <th>case</th>\n",
              "      <th>cc3</th>\n",
              "      <th>country</th>\n",
              "      <th>year</th>\n",
              "      <th>systemic_crisis</th>\n",
              "      <th>exch_usd</th>\n",
              "      <th>domestic_debt_in_default</th>\n",
              "      <th>sovereign_external_debt_default</th>\n",
              "      <th>gdp_weighted_default</th>\n",
              "      <th>inflation_annual_cpi</th>\n",
              "      <th>independence</th>\n",
              "      <th>currency_crises</th>\n",
              "      <th>inflation_crises</th>\n",
              "      <th>banking_crisis</th>\n",
              "    </tr>\n",
              "  </thead>\n",
              "  <tbody>\n",
              "    <tr>\n",
              "      <th>0</th>\n",
              "      <td>1</td>\n",
              "      <td>DZA</td>\n",
              "      <td>Algeria</td>\n",
              "      <td>1870</td>\n",
              "      <td>1</td>\n",
              "      <td>0.052264</td>\n",
              "      <td>0</td>\n",
              "      <td>0</td>\n",
              "      <td>0.0</td>\n",
              "      <td>3.441456</td>\n",
              "      <td>0</td>\n",
              "      <td>0</td>\n",
              "      <td>0</td>\n",
              "      <td>crisis</td>\n",
              "    </tr>\n",
              "    <tr>\n",
              "      <th>1</th>\n",
              "      <td>1</td>\n",
              "      <td>DZA</td>\n",
              "      <td>Algeria</td>\n",
              "      <td>1871</td>\n",
              "      <td>0</td>\n",
              "      <td>0.052798</td>\n",
              "      <td>0</td>\n",
              "      <td>0</td>\n",
              "      <td>0.0</td>\n",
              "      <td>14.149140</td>\n",
              "      <td>0</td>\n",
              "      <td>0</td>\n",
              "      <td>0</td>\n",
              "      <td>no_crisis</td>\n",
              "    </tr>\n",
              "    <tr>\n",
              "      <th>2</th>\n",
              "      <td>1</td>\n",
              "      <td>DZA</td>\n",
              "      <td>Algeria</td>\n",
              "      <td>1872</td>\n",
              "      <td>0</td>\n",
              "      <td>0.052274</td>\n",
              "      <td>0</td>\n",
              "      <td>0</td>\n",
              "      <td>0.0</td>\n",
              "      <td>-3.718593</td>\n",
              "      <td>0</td>\n",
              "      <td>0</td>\n",
              "      <td>0</td>\n",
              "      <td>no_crisis</td>\n",
              "    </tr>\n",
              "    <tr>\n",
              "      <th>3</th>\n",
              "      <td>1</td>\n",
              "      <td>DZA</td>\n",
              "      <td>Algeria</td>\n",
              "      <td>1873</td>\n",
              "      <td>0</td>\n",
              "      <td>0.051680</td>\n",
              "      <td>0</td>\n",
              "      <td>0</td>\n",
              "      <td>0.0</td>\n",
              "      <td>11.203897</td>\n",
              "      <td>0</td>\n",
              "      <td>0</td>\n",
              "      <td>0</td>\n",
              "      <td>no_crisis</td>\n",
              "    </tr>\n",
              "    <tr>\n",
              "      <th>4</th>\n",
              "      <td>1</td>\n",
              "      <td>DZA</td>\n",
              "      <td>Algeria</td>\n",
              "      <td>1874</td>\n",
              "      <td>0</td>\n",
              "      <td>0.051308</td>\n",
              "      <td>0</td>\n",
              "      <td>0</td>\n",
              "      <td>0.0</td>\n",
              "      <td>-3.848561</td>\n",
              "      <td>0</td>\n",
              "      <td>0</td>\n",
              "      <td>0</td>\n",
              "      <td>no_crisis</td>\n",
              "    </tr>\n",
              "  </tbody>\n",
              "</table>\n",
              "</div>"
            ],
            "text/plain": [
              "   case  cc3  country  year  systemic_crisis  exch_usd  \\\n",
              "0     1  DZA  Algeria  1870                1  0.052264   \n",
              "1     1  DZA  Algeria  1871                0  0.052798   \n",
              "2     1  DZA  Algeria  1872                0  0.052274   \n",
              "3     1  DZA  Algeria  1873                0  0.051680   \n",
              "4     1  DZA  Algeria  1874                0  0.051308   \n",
              "\n",
              "   domestic_debt_in_default  sovereign_external_debt_default  \\\n",
              "0                         0                                0   \n",
              "1                         0                                0   \n",
              "2                         0                                0   \n",
              "3                         0                                0   \n",
              "4                         0                                0   \n",
              "\n",
              "   gdp_weighted_default  inflation_annual_cpi  independence  currency_crises  \\\n",
              "0                   0.0              3.441456             0                0   \n",
              "1                   0.0             14.149140             0                0   \n",
              "2                   0.0             -3.718593             0                0   \n",
              "3                   0.0             11.203897             0                0   \n",
              "4                   0.0             -3.848561             0                0   \n",
              "\n",
              "   inflation_crises banking_crisis  \n",
              "0                 0         crisis  \n",
              "1                 0      no_crisis  \n",
              "2                 0      no_crisis  \n",
              "3                 0      no_crisis  \n",
              "4                 0      no_crisis  "
            ]
          },
          "metadata": {}
        }
      ],
      "execution_count": 3,
      "metadata": {}
    },
    {
      "cell_type": "markdown",
      "source": [
        "## Data acquisition"
      ],
      "metadata": {}
    },
    {
      "cell_type": "code",
      "source": [
        "data.info()"
      ],
      "outputs": [
        {
          "output_type": "stream",
          "name": "stdout",
          "text": [
            "<class 'pandas.core.frame.DataFrame'>\n",
            "RangeIndex: 1059 entries, 0 to 1058\n",
            "Data columns (total 14 columns):\n",
            "case                               1059 non-null int64\n",
            "cc3                                1059 non-null object\n",
            "country                            1059 non-null object\n",
            "year                               1059 non-null int64\n",
            "systemic_crisis                    1059 non-null int64\n",
            "exch_usd                           1059 non-null float64\n",
            "domestic_debt_in_default           1059 non-null int64\n",
            "sovereign_external_debt_default    1059 non-null int64\n",
            "gdp_weighted_default               1059 non-null float64\n",
            "inflation_annual_cpi               1059 non-null float64\n",
            "independence                       1059 non-null int64\n",
            "currency_crises                    1059 non-null int64\n",
            "inflation_crises                   1059 non-null int64\n",
            "banking_crisis                     1059 non-null object\n",
            "dtypes: float64(3), int64(8), object(3)\n",
            "memory usage: 116.0+ KB\n"
          ]
        }
      ],
      "execution_count": 4,
      "metadata": {}
    },
    {
      "cell_type": "code",
      "source": [
        "data.describe()"
      ],
      "outputs": [
        {
          "output_type": "execute_result",
          "execution_count": 5,
          "data": {
            "text/html": [
              "<div>\n",
              "<style scoped>\n",
              "    .dataframe tbody tr th:only-of-type {\n",
              "        vertical-align: middle;\n",
              "    }\n",
              "\n",
              "    .dataframe tbody tr th {\n",
              "        vertical-align: top;\n",
              "    }\n",
              "\n",
              "    .dataframe thead th {\n",
              "        text-align: right;\n",
              "    }\n",
              "</style>\n",
              "<table border=\"1\" class=\"dataframe\">\n",
              "  <thead>\n",
              "    <tr style=\"text-align: right;\">\n",
              "      <th></th>\n",
              "      <th>case</th>\n",
              "      <th>year</th>\n",
              "      <th>systemic_crisis</th>\n",
              "      <th>exch_usd</th>\n",
              "      <th>domestic_debt_in_default</th>\n",
              "      <th>sovereign_external_debt_default</th>\n",
              "      <th>gdp_weighted_default</th>\n",
              "      <th>inflation_annual_cpi</th>\n",
              "      <th>independence</th>\n",
              "      <th>currency_crises</th>\n",
              "      <th>inflation_crises</th>\n",
              "    </tr>\n",
              "  </thead>\n",
              "  <tbody>\n",
              "    <tr>\n",
              "      <th>count</th>\n",
              "      <td>1059.000000</td>\n",
              "      <td>1059.000000</td>\n",
              "      <td>1059.000000</td>\n",
              "      <td>1059.000000</td>\n",
              "      <td>1059.000000</td>\n",
              "      <td>1059.000000</td>\n",
              "      <td>1059.000000</td>\n",
              "      <td>1.059000e+03</td>\n",
              "      <td>1059.000000</td>\n",
              "      <td>1059.000000</td>\n",
              "      <td>1059.000000</td>\n",
              "    </tr>\n",
              "    <tr>\n",
              "      <th>mean</th>\n",
              "      <td>35.613787</td>\n",
              "      <td>1967.767705</td>\n",
              "      <td>0.077432</td>\n",
              "      <td>43.140831</td>\n",
              "      <td>0.039660</td>\n",
              "      <td>0.152975</td>\n",
              "      <td>0.006402</td>\n",
              "      <td>2.084889e+04</td>\n",
              "      <td>0.776204</td>\n",
              "      <td>0.132200</td>\n",
              "      <td>0.129367</td>\n",
              "    </tr>\n",
              "    <tr>\n",
              "      <th>std</th>\n",
              "      <td>23.692402</td>\n",
              "      <td>33.530632</td>\n",
              "      <td>0.267401</td>\n",
              "      <td>111.475380</td>\n",
              "      <td>0.195251</td>\n",
              "      <td>0.360133</td>\n",
              "      <td>0.043572</td>\n",
              "      <td>6.757274e+05</td>\n",
              "      <td>0.416984</td>\n",
              "      <td>0.349847</td>\n",
              "      <td>0.335765</td>\n",
              "    </tr>\n",
              "    <tr>\n",
              "      <th>min</th>\n",
              "      <td>1.000000</td>\n",
              "      <td>1860.000000</td>\n",
              "      <td>0.000000</td>\n",
              "      <td>0.000000</td>\n",
              "      <td>0.000000</td>\n",
              "      <td>0.000000</td>\n",
              "      <td>0.000000</td>\n",
              "      <td>-2.850214e+01</td>\n",
              "      <td>0.000000</td>\n",
              "      <td>0.000000</td>\n",
              "      <td>0.000000</td>\n",
              "    </tr>\n",
              "    <tr>\n",
              "      <th>25%</th>\n",
              "      <td>15.000000</td>\n",
              "      <td>1951.000000</td>\n",
              "      <td>0.000000</td>\n",
              "      <td>0.195350</td>\n",
              "      <td>0.000000</td>\n",
              "      <td>0.000000</td>\n",
              "      <td>0.000000</td>\n",
              "      <td>2.086162e+00</td>\n",
              "      <td>1.000000</td>\n",
              "      <td>0.000000</td>\n",
              "      <td>0.000000</td>\n",
              "    </tr>\n",
              "    <tr>\n",
              "      <th>50%</th>\n",
              "      <td>38.000000</td>\n",
              "      <td>1973.000000</td>\n",
              "      <td>0.000000</td>\n",
              "      <td>0.868400</td>\n",
              "      <td>0.000000</td>\n",
              "      <td>0.000000</td>\n",
              "      <td>0.000000</td>\n",
              "      <td>5.762330e+00</td>\n",
              "      <td>1.000000</td>\n",
              "      <td>0.000000</td>\n",
              "      <td>0.000000</td>\n",
              "    </tr>\n",
              "    <tr>\n",
              "      <th>75%</th>\n",
              "      <td>56.000000</td>\n",
              "      <td>1994.000000</td>\n",
              "      <td>0.000000</td>\n",
              "      <td>8.462750</td>\n",
              "      <td>0.000000</td>\n",
              "      <td>0.000000</td>\n",
              "      <td>0.000000</td>\n",
              "      <td>1.164405e+01</td>\n",
              "      <td>1.000000</td>\n",
              "      <td>0.000000</td>\n",
              "      <td>0.000000</td>\n",
              "    </tr>\n",
              "    <tr>\n",
              "      <th>max</th>\n",
              "      <td>70.000000</td>\n",
              "      <td>2014.000000</td>\n",
              "      <td>1.000000</td>\n",
              "      <td>744.306139</td>\n",
              "      <td>1.000000</td>\n",
              "      <td>1.000000</td>\n",
              "      <td>0.400000</td>\n",
              "      <td>2.198970e+07</td>\n",
              "      <td>1.000000</td>\n",
              "      <td>2.000000</td>\n",
              "      <td>1.000000</td>\n",
              "    </tr>\n",
              "  </tbody>\n",
              "</table>\n",
              "</div>"
            ],
            "text/plain": [
              "              case         year  systemic_crisis     exch_usd  \\\n",
              "count  1059.000000  1059.000000      1059.000000  1059.000000   \n",
              "mean     35.613787  1967.767705         0.077432    43.140831   \n",
              "std      23.692402    33.530632         0.267401   111.475380   \n",
              "min       1.000000  1860.000000         0.000000     0.000000   \n",
              "25%      15.000000  1951.000000         0.000000     0.195350   \n",
              "50%      38.000000  1973.000000         0.000000     0.868400   \n",
              "75%      56.000000  1994.000000         0.000000     8.462750   \n",
              "max      70.000000  2014.000000         1.000000   744.306139   \n",
              "\n",
              "       domestic_debt_in_default  sovereign_external_debt_default  \\\n",
              "count               1059.000000                      1059.000000   \n",
              "mean                   0.039660                         0.152975   \n",
              "std                    0.195251                         0.360133   \n",
              "min                    0.000000                         0.000000   \n",
              "25%                    0.000000                         0.000000   \n",
              "50%                    0.000000                         0.000000   \n",
              "75%                    0.000000                         0.000000   \n",
              "max                    1.000000                         1.000000   \n",
              "\n",
              "       gdp_weighted_default  inflation_annual_cpi  independence  \\\n",
              "count           1059.000000          1.059000e+03   1059.000000   \n",
              "mean               0.006402          2.084889e+04      0.776204   \n",
              "std                0.043572          6.757274e+05      0.416984   \n",
              "min                0.000000         -2.850214e+01      0.000000   \n",
              "25%                0.000000          2.086162e+00      1.000000   \n",
              "50%                0.000000          5.762330e+00      1.000000   \n",
              "75%                0.000000          1.164405e+01      1.000000   \n",
              "max                0.400000          2.198970e+07      1.000000   \n",
              "\n",
              "       currency_crises  inflation_crises  \n",
              "count      1059.000000       1059.000000  \n",
              "mean          0.132200          0.129367  \n",
              "std           0.349847          0.335765  \n",
              "min           0.000000          0.000000  \n",
              "25%           0.000000          0.000000  \n",
              "50%           0.000000          0.000000  \n",
              "75%           0.000000          0.000000  \n",
              "max           2.000000          1.000000  "
            ]
          },
          "metadata": {}
        }
      ],
      "execution_count": 5,
      "metadata": {}
    },
    {
      "cell_type": "code",
      "source": [
        "data.isnull().sum()"
      ],
      "outputs": [
        {
          "output_type": "execute_result",
          "execution_count": 6,
          "data": {
            "text/plain": [
              "case                               0\n",
              "cc3                                0\n",
              "country                            0\n",
              "year                               0\n",
              "systemic_crisis                    0\n",
              "exch_usd                           0\n",
              "domestic_debt_in_default           0\n",
              "sovereign_external_debt_default    0\n",
              "gdp_weighted_default               0\n",
              "inflation_annual_cpi               0\n",
              "independence                       0\n",
              "currency_crises                    0\n",
              "inflation_crises                   0\n",
              "banking_crisis                     0\n",
              "dtype: int64"
            ]
          },
          "metadata": {}
        }
      ],
      "execution_count": 6,
      "metadata": {}
    },
    {
      "cell_type": "code",
      "source": [
        "data.columns"
      ],
      "outputs": [
        {
          "output_type": "execute_result",
          "execution_count": 7,
          "data": {
            "text/plain": [
              "Index(['case', 'cc3', 'country', 'year', 'systemic_crisis', 'exch_usd',\n",
              "       'domestic_debt_in_default', 'sovereign_external_debt_default',\n",
              "       'gdp_weighted_default', 'inflation_annual_cpi', 'independence',\n",
              "       'currency_crises', 'inflation_crises', 'banking_crisis'],\n",
              "      dtype='object')"
            ]
          },
          "metadata": {}
        }
      ],
      "execution_count": 7,
      "metadata": {
        "cell_style": "split"
      }
    },
    {
      "cell_type": "code",
      "source": [
        "data.index"
      ],
      "outputs": [
        {
          "output_type": "execute_result",
          "execution_count": 8,
          "data": {
            "text/plain": [
              "RangeIndex(start=0, stop=1059, step=1)"
            ]
          },
          "metadata": {}
        }
      ],
      "execution_count": 8,
      "metadata": {
        "cell_style": "split"
      }
    },
    {
      "cell_type": "code",
      "source": [
        "data.dtypes.unique()"
      ],
      "outputs": [
        {
          "output_type": "execute_result",
          "execution_count": 9,
          "data": {
            "text/plain": [
              "array([dtype('int64'), dtype('O'), dtype('float64')], dtype=object)"
            ]
          },
          "metadata": {}
        }
      ],
      "execution_count": 9,
      "metadata": {}
    },
    {
      "cell_type": "code",
      "source": [
        "data.nunique()"
      ],
      "outputs": [
        {
          "output_type": "execute_result",
          "execution_count": 10,
          "data": {
            "text/plain": [
              "case                                 13\n",
              "cc3                                  13\n",
              "country                              13\n",
              "year                                155\n",
              "systemic_crisis                       2\n",
              "exch_usd                            772\n",
              "domestic_debt_in_default              2\n",
              "sovereign_external_debt_default       2\n",
              "gdp_weighted_default                  6\n",
              "inflation_annual_cpi               1022\n",
              "independence                          2\n",
              "currency_crises                       3\n",
              "inflation_crises                      2\n",
              "banking_crisis                        2\n",
              "dtype: int64"
            ]
          },
          "metadata": {}
        }
      ],
      "execution_count": 10,
      "metadata": {}
    },
    {
      "cell_type": "code",
      "source": [
        "'''compare similar columns'''\n",
        "data.loc[:,['case','cc3','country']].head(10)"
      ],
      "outputs": [
        {
          "output_type": "execute_result",
          "execution_count": 11,
          "data": {
            "text/html": [
              "<div>\n",
              "<style scoped>\n",
              "    .dataframe tbody tr th:only-of-type {\n",
              "        vertical-align: middle;\n",
              "    }\n",
              "\n",
              "    .dataframe tbody tr th {\n",
              "        vertical-align: top;\n",
              "    }\n",
              "\n",
              "    .dataframe thead th {\n",
              "        text-align: right;\n",
              "    }\n",
              "</style>\n",
              "<table border=\"1\" class=\"dataframe\">\n",
              "  <thead>\n",
              "    <tr style=\"text-align: right;\">\n",
              "      <th></th>\n",
              "      <th>case</th>\n",
              "      <th>cc3</th>\n",
              "      <th>country</th>\n",
              "    </tr>\n",
              "  </thead>\n",
              "  <tbody>\n",
              "    <tr>\n",
              "      <th>0</th>\n",
              "      <td>1</td>\n",
              "      <td>DZA</td>\n",
              "      <td>Algeria</td>\n",
              "    </tr>\n",
              "    <tr>\n",
              "      <th>1</th>\n",
              "      <td>1</td>\n",
              "      <td>DZA</td>\n",
              "      <td>Algeria</td>\n",
              "    </tr>\n",
              "    <tr>\n",
              "      <th>2</th>\n",
              "      <td>1</td>\n",
              "      <td>DZA</td>\n",
              "      <td>Algeria</td>\n",
              "    </tr>\n",
              "    <tr>\n",
              "      <th>3</th>\n",
              "      <td>1</td>\n",
              "      <td>DZA</td>\n",
              "      <td>Algeria</td>\n",
              "    </tr>\n",
              "    <tr>\n",
              "      <th>4</th>\n",
              "      <td>1</td>\n",
              "      <td>DZA</td>\n",
              "      <td>Algeria</td>\n",
              "    </tr>\n",
              "    <tr>\n",
              "      <th>5</th>\n",
              "      <td>1</td>\n",
              "      <td>DZA</td>\n",
              "      <td>Algeria</td>\n",
              "    </tr>\n",
              "    <tr>\n",
              "      <th>6</th>\n",
              "      <td>1</td>\n",
              "      <td>DZA</td>\n",
              "      <td>Algeria</td>\n",
              "    </tr>\n",
              "    <tr>\n",
              "      <th>7</th>\n",
              "      <td>1</td>\n",
              "      <td>DZA</td>\n",
              "      <td>Algeria</td>\n",
              "    </tr>\n",
              "    <tr>\n",
              "      <th>8</th>\n",
              "      <td>1</td>\n",
              "      <td>DZA</td>\n",
              "      <td>Algeria</td>\n",
              "    </tr>\n",
              "    <tr>\n",
              "      <th>9</th>\n",
              "      <td>1</td>\n",
              "      <td>DZA</td>\n",
              "      <td>Algeria</td>\n",
              "    </tr>\n",
              "  </tbody>\n",
              "</table>\n",
              "</div>"
            ],
            "text/plain": [
              "   case  cc3  country\n",
              "0     1  DZA  Algeria\n",
              "1     1  DZA  Algeria\n",
              "2     1  DZA  Algeria\n",
              "3     1  DZA  Algeria\n",
              "4     1  DZA  Algeria\n",
              "5     1  DZA  Algeria\n",
              "6     1  DZA  Algeria\n",
              "7     1  DZA  Algeria\n",
              "8     1  DZA  Algeria\n",
              "9     1  DZA  Algeria"
            ]
          },
          "metadata": {}
        }
      ],
      "execution_count": 11,
      "metadata": {}
    },
    {
      "cell_type": "markdown",
      "source": [
        "observations: the data above is similar, have the same number of unique items in the same postion, since case represent the number to specify the country and cc3 is the country code , we drop both and use country instead"
      ],
      "metadata": {}
    },
    {
      "cell_type": "code",
      "source": [
        "data.drop(['case','cc3'],axis=1,inplace=True)"
      ],
      "outputs": [],
      "execution_count": 12,
      "metadata": {}
    },
    {
      "cell_type": "code",
      "source": [
        "data.head()"
      ],
      "outputs": [
        {
          "output_type": "execute_result",
          "execution_count": 13,
          "data": {
            "text/html": [
              "<div>\n",
              "<style scoped>\n",
              "    .dataframe tbody tr th:only-of-type {\n",
              "        vertical-align: middle;\n",
              "    }\n",
              "\n",
              "    .dataframe tbody tr th {\n",
              "        vertical-align: top;\n",
              "    }\n",
              "\n",
              "    .dataframe thead th {\n",
              "        text-align: right;\n",
              "    }\n",
              "</style>\n",
              "<table border=\"1\" class=\"dataframe\">\n",
              "  <thead>\n",
              "    <tr style=\"text-align: right;\">\n",
              "      <th></th>\n",
              "      <th>country</th>\n",
              "      <th>year</th>\n",
              "      <th>systemic_crisis</th>\n",
              "      <th>exch_usd</th>\n",
              "      <th>domestic_debt_in_default</th>\n",
              "      <th>sovereign_external_debt_default</th>\n",
              "      <th>gdp_weighted_default</th>\n",
              "      <th>inflation_annual_cpi</th>\n",
              "      <th>independence</th>\n",
              "      <th>currency_crises</th>\n",
              "      <th>inflation_crises</th>\n",
              "      <th>banking_crisis</th>\n",
              "    </tr>\n",
              "  </thead>\n",
              "  <tbody>\n",
              "    <tr>\n",
              "      <th>0</th>\n",
              "      <td>Algeria</td>\n",
              "      <td>1870</td>\n",
              "      <td>1</td>\n",
              "      <td>0.052264</td>\n",
              "      <td>0</td>\n",
              "      <td>0</td>\n",
              "      <td>0.0</td>\n",
              "      <td>3.441456</td>\n",
              "      <td>0</td>\n",
              "      <td>0</td>\n",
              "      <td>0</td>\n",
              "      <td>crisis</td>\n",
              "    </tr>\n",
              "    <tr>\n",
              "      <th>1</th>\n",
              "      <td>Algeria</td>\n",
              "      <td>1871</td>\n",
              "      <td>0</td>\n",
              "      <td>0.052798</td>\n",
              "      <td>0</td>\n",
              "      <td>0</td>\n",
              "      <td>0.0</td>\n",
              "      <td>14.149140</td>\n",
              "      <td>0</td>\n",
              "      <td>0</td>\n",
              "      <td>0</td>\n",
              "      <td>no_crisis</td>\n",
              "    </tr>\n",
              "    <tr>\n",
              "      <th>2</th>\n",
              "      <td>Algeria</td>\n",
              "      <td>1872</td>\n",
              "      <td>0</td>\n",
              "      <td>0.052274</td>\n",
              "      <td>0</td>\n",
              "      <td>0</td>\n",
              "      <td>0.0</td>\n",
              "      <td>-3.718593</td>\n",
              "      <td>0</td>\n",
              "      <td>0</td>\n",
              "      <td>0</td>\n",
              "      <td>no_crisis</td>\n",
              "    </tr>\n",
              "    <tr>\n",
              "      <th>3</th>\n",
              "      <td>Algeria</td>\n",
              "      <td>1873</td>\n",
              "      <td>0</td>\n",
              "      <td>0.051680</td>\n",
              "      <td>0</td>\n",
              "      <td>0</td>\n",
              "      <td>0.0</td>\n",
              "      <td>11.203897</td>\n",
              "      <td>0</td>\n",
              "      <td>0</td>\n",
              "      <td>0</td>\n",
              "      <td>no_crisis</td>\n",
              "    </tr>\n",
              "    <tr>\n",
              "      <th>4</th>\n",
              "      <td>Algeria</td>\n",
              "      <td>1874</td>\n",
              "      <td>0</td>\n",
              "      <td>0.051308</td>\n",
              "      <td>0</td>\n",
              "      <td>0</td>\n",
              "      <td>0.0</td>\n",
              "      <td>-3.848561</td>\n",
              "      <td>0</td>\n",
              "      <td>0</td>\n",
              "      <td>0</td>\n",
              "      <td>no_crisis</td>\n",
              "    </tr>\n",
              "  </tbody>\n",
              "</table>\n",
              "</div>"
            ],
            "text/plain": [
              "   country  year  systemic_crisis  exch_usd  domestic_debt_in_default  \\\n",
              "0  Algeria  1870                1  0.052264                         0   \n",
              "1  Algeria  1871                0  0.052798                         0   \n",
              "2  Algeria  1872                0  0.052274                         0   \n",
              "3  Algeria  1873                0  0.051680                         0   \n",
              "4  Algeria  1874                0  0.051308                         0   \n",
              "\n",
              "   sovereign_external_debt_default  gdp_weighted_default  \\\n",
              "0                                0                   0.0   \n",
              "1                                0                   0.0   \n",
              "2                                0                   0.0   \n",
              "3                                0                   0.0   \n",
              "4                                0                   0.0   \n",
              "\n",
              "   inflation_annual_cpi  independence  currency_crises  inflation_crises  \\\n",
              "0              3.441456             0                0                 0   \n",
              "1             14.149140             0                0                 0   \n",
              "2             -3.718593             0                0                 0   \n",
              "3             11.203897             0                0                 0   \n",
              "4             -3.848561             0                0                 0   \n",
              "\n",
              "  banking_crisis  \n",
              "0         crisis  \n",
              "1      no_crisis  \n",
              "2      no_crisis  \n",
              "3      no_crisis  \n",
              "4      no_crisis  "
            ]
          },
          "metadata": {}
        }
      ],
      "execution_count": 13,
      "metadata": {}
    },
    {
      "cell_type": "code",
      "source": [
        "def compareBoth(cols):\n",
        "    if cols[0] == 1 and cols[1] == \"crisis\":\n",
        "        return 'similar'\n",
        "    elif cols[0] == 0 and cols[1] == 'no_crisis':\n",
        "        return 'similar'\n",
        "    else:\n",
        "        return 'not similar'"
      ],
      "outputs": [],
      "execution_count": 14,
      "metadata": {}
    },
    {
      "cell_type": "code",
      "source": [
        "data[['systemic_crisis','banking_crisis']].apply(compareBoth,axis = 1).value_counts()"
      ],
      "outputs": [
        {
          "output_type": "execute_result",
          "execution_count": 15,
          "data": {
            "text/plain": [
              "similar        1035\n",
              "not similar      24\n",
              "dtype: int64"
            ]
          },
          "metadata": {}
        }
      ],
      "execution_count": 15,
      "metadata": {}
    },
    {
      "cell_type": "markdown",
      "source": [
        "observations: banking crisis and systemic crisis are not the same but are somewhat similar"
      ],
      "metadata": {}
    },
    {
      "cell_type": "code",
      "source": [
        "byYear = data.groupby('year').mean()[['exch_usd','inflation_annual_cpi']]"
      ],
      "outputs": [],
      "execution_count": 16,
      "metadata": {
        "cell_style": "center"
      }
    },
    {
      "cell_type": "code",
      "source": [
        "byYearCountry = data.groupby(['year','country']).mean()['exch_usd'].unstack().fillna(0)"
      ],
      "outputs": [],
      "execution_count": 17,
      "metadata": {}
    },
    {
      "cell_type": "code",
      "source": [
        "byYear.head()"
      ],
      "outputs": [
        {
          "output_type": "execute_result",
          "execution_count": 18,
          "data": {
            "text/html": [
              "<div>\n",
              "<style scoped>\n",
              "    .dataframe tbody tr th:only-of-type {\n",
              "        vertical-align: middle;\n",
              "    }\n",
              "\n",
              "    .dataframe tbody tr th {\n",
              "        vertical-align: top;\n",
              "    }\n",
              "\n",
              "    .dataframe thead th {\n",
              "        text-align: right;\n",
              "    }\n",
              "</style>\n",
              "<table border=\"1\" class=\"dataframe\">\n",
              "  <thead>\n",
              "    <tr style=\"text-align: right;\">\n",
              "      <th></th>\n",
              "      <th>exch_usd</th>\n",
              "      <th>inflation_annual_cpi</th>\n",
              "    </tr>\n",
              "    <tr>\n",
              "      <th>year</th>\n",
              "      <th></th>\n",
              "      <th></th>\n",
              "    </tr>\n",
              "  </thead>\n",
              "  <tbody>\n",
              "    <tr>\n",
              "      <th>1860</th>\n",
              "      <td>0.206612</td>\n",
              "      <td>5.944478</td>\n",
              "    </tr>\n",
              "    <tr>\n",
              "      <th>1861</th>\n",
              "      <td>0.206612</td>\n",
              "      <td>5.952720</td>\n",
              "    </tr>\n",
              "    <tr>\n",
              "      <th>1862</th>\n",
              "      <td>0.206612</td>\n",
              "      <td>5.940860</td>\n",
              "    </tr>\n",
              "    <tr>\n",
              "      <th>1863</th>\n",
              "      <td>0.206612</td>\n",
              "      <td>5.950266</td>\n",
              "    </tr>\n",
              "    <tr>\n",
              "      <th>1864</th>\n",
              "      <td>0.206612</td>\n",
              "      <td>5.951383</td>\n",
              "    </tr>\n",
              "  </tbody>\n",
              "</table>\n",
              "</div>"
            ],
            "text/plain": [
              "      exch_usd  inflation_annual_cpi\n",
              "year                                \n",
              "1860  0.206612              5.944478\n",
              "1861  0.206612              5.952720\n",
              "1862  0.206612              5.940860\n",
              "1863  0.206612              5.950266\n",
              "1864  0.206612              5.951383"
            ]
          },
          "metadata": {}
        }
      ],
      "execution_count": 18,
      "metadata": {
        "cell_style": "center"
      }
    },
    {
      "cell_type": "code",
      "source": [
        "byYearCountry.tail()"
      ],
      "outputs": [
        {
          "output_type": "execute_result",
          "execution_count": 19,
          "data": {
            "text/html": [
              "<div>\n",
              "<style scoped>\n",
              "    .dataframe tbody tr th:only-of-type {\n",
              "        vertical-align: middle;\n",
              "    }\n",
              "\n",
              "    .dataframe tbody tr th {\n",
              "        vertical-align: top;\n",
              "    }\n",
              "\n",
              "    .dataframe thead th {\n",
              "        text-align: right;\n",
              "    }\n",
              "</style>\n",
              "<table border=\"1\" class=\"dataframe\">\n",
              "  <thead>\n",
              "    <tr style=\"text-align: right;\">\n",
              "      <th>country</th>\n",
              "      <th>Algeria</th>\n",
              "      <th>Angola</th>\n",
              "      <th>Central African Republic</th>\n",
              "      <th>Egypt</th>\n",
              "      <th>Ivory Coast</th>\n",
              "      <th>Kenya</th>\n",
              "      <th>Mauritius</th>\n",
              "      <th>Morocco</th>\n",
              "      <th>Nigeria</th>\n",
              "      <th>South Africa</th>\n",
              "      <th>Tunisia</th>\n",
              "      <th>Zambia</th>\n",
              "      <th>Zimbabwe</th>\n",
              "    </tr>\n",
              "    <tr>\n",
              "      <th>year</th>\n",
              "      <th></th>\n",
              "      <th></th>\n",
              "      <th></th>\n",
              "      <th></th>\n",
              "      <th></th>\n",
              "      <th></th>\n",
              "      <th></th>\n",
              "      <th></th>\n",
              "      <th></th>\n",
              "      <th></th>\n",
              "      <th></th>\n",
              "      <th></th>\n",
              "      <th></th>\n",
              "    </tr>\n",
              "  </thead>\n",
              "  <tbody>\n",
              "    <tr>\n",
              "      <th>2010</th>\n",
              "      <td>74.943700</td>\n",
              "      <td>92.643000</td>\n",
              "      <td>490.912289</td>\n",
              "      <td>5.7926</td>\n",
              "      <td>0.0</td>\n",
              "      <td>80.751944</td>\n",
              "      <td>30.390000</td>\n",
              "      <td>8.3569</td>\n",
              "      <td>150.6617</td>\n",
              "      <td>6.63160</td>\n",
              "      <td>1.437900</td>\n",
              "      <td>4.789900</td>\n",
              "      <td>378.2</td>\n",
              "    </tr>\n",
              "    <tr>\n",
              "      <th>2011</th>\n",
              "      <td>76.056300</td>\n",
              "      <td>95.272000</td>\n",
              "      <td>506.961125</td>\n",
              "      <td>6.0169</td>\n",
              "      <td>0.0</td>\n",
              "      <td>85.068100</td>\n",
              "      <td>29.330000</td>\n",
              "      <td>8.5772</td>\n",
              "      <td>158.2670</td>\n",
              "      <td>8.14290</td>\n",
              "      <td>1.499300</td>\n",
              "      <td>5.113980</td>\n",
              "      <td>361.9</td>\n",
              "    </tr>\n",
              "    <tr>\n",
              "      <th>2012</th>\n",
              "      <td>78.102500</td>\n",
              "      <td>95.825885</td>\n",
              "      <td>497.163104</td>\n",
              "      <td>6.3057</td>\n",
              "      <td>0.0</td>\n",
              "      <td>86.000800</td>\n",
              "      <td>30.520000</td>\n",
              "      <td>8.4335</td>\n",
              "      <td>155.2700</td>\n",
              "      <td>8.50115</td>\n",
              "      <td>1.550600</td>\n",
              "      <td>5.146613</td>\n",
              "      <td>361.9</td>\n",
              "    </tr>\n",
              "    <tr>\n",
              "      <th>2013</th>\n",
              "      <td>78.148701</td>\n",
              "      <td>97.560000</td>\n",
              "      <td>475.641360</td>\n",
              "      <td>6.9400</td>\n",
              "      <td>0.0</td>\n",
              "      <td>86.310000</td>\n",
              "      <td>30.125130</td>\n",
              "      <td>8.1500</td>\n",
              "      <td>155.2000</td>\n",
              "      <td>10.48985</td>\n",
              "      <td>1.653096</td>\n",
              "      <td>5.520000</td>\n",
              "      <td>361.9</td>\n",
              "    </tr>\n",
              "    <tr>\n",
              "      <th>2014</th>\n",
              "      <td>87.970698</td>\n",
              "      <td>101.490000</td>\n",
              "      <td>540.282514</td>\n",
              "      <td>7.1500</td>\n",
              "      <td>0.0</td>\n",
              "      <td>89.350000</td>\n",
              "      <td>31.737458</td>\n",
              "      <td>8.8200</td>\n",
              "      <td>155.2500</td>\n",
              "      <td>0.00000</td>\n",
              "      <td>1.862412</td>\n",
              "      <td>6.385600</td>\n",
              "      <td>0.0</td>\n",
              "    </tr>\n",
              "  </tbody>\n",
              "</table>\n",
              "</div>"
            ],
            "text/plain": [
              "country    Algeria      Angola  Central African Republic   Egypt  Ivory Coast  \\\n",
              "year                                                                            \n",
              "2010     74.943700   92.643000                490.912289  5.7926          0.0   \n",
              "2011     76.056300   95.272000                506.961125  6.0169          0.0   \n",
              "2012     78.102500   95.825885                497.163104  6.3057          0.0   \n",
              "2013     78.148701   97.560000                475.641360  6.9400          0.0   \n",
              "2014     87.970698  101.490000                540.282514  7.1500          0.0   \n",
              "\n",
              "country      Kenya  Mauritius  Morocco   Nigeria  South Africa   Tunisia  \\\n",
              "year                                                                       \n",
              "2010     80.751944  30.390000   8.3569  150.6617       6.63160  1.437900   \n",
              "2011     85.068100  29.330000   8.5772  158.2670       8.14290  1.499300   \n",
              "2012     86.000800  30.520000   8.4335  155.2700       8.50115  1.550600   \n",
              "2013     86.310000  30.125130   8.1500  155.2000      10.48985  1.653096   \n",
              "2014     89.350000  31.737458   8.8200  155.2500       0.00000  1.862412   \n",
              "\n",
              "country    Zambia  Zimbabwe  \n",
              "year                         \n",
              "2010     4.789900     378.2  \n",
              "2011     5.113980     361.9  \n",
              "2012     5.146613     361.9  \n",
              "2013     5.520000     361.9  \n",
              "2014     6.385600       0.0  "
            ]
          },
          "metadata": {}
        }
      ],
      "execution_count": 19,
      "metadata": {
        "cell_style": "center"
      }
    },
    {
      "cell_type": "code",
      "source": [
        "print(data['systemic_crisis'].value_counts())\n",
        "print(data['domestic_debt_in_default'].value_counts())\n",
        "print(data['sovereign_external_debt_default'].value_counts())\n",
        "print(data['systemic_crisis'].value_counts())\n",
        "print(data['currency_crises'].value_counts())\n",
        "print(data['inflation_crises'].value_counts())"
      ],
      "outputs": [
        {
          "output_type": "stream",
          "name": "stdout",
          "text": [
            "0    977\n",
            "1     82\n",
            "Name: systemic_crisis, dtype: int64\n",
            "0    1017\n",
            "1      42\n",
            "Name: domestic_debt_in_default, dtype: int64\n",
            "0    897\n",
            "1    162\n",
            "Name: sovereign_external_debt_default, dtype: int64\n",
            "0    977\n",
            "1     82\n",
            "Name: systemic_crisis, dtype: int64\n",
            "0    923\n",
            "1    132\n",
            "2      4\n",
            "Name: currency_crises, dtype: int64\n",
            "0    922\n",
            "1    137\n",
            "Name: inflation_crises, dtype: int64\n"
          ]
        }
      ],
      "execution_count": 20,
      "metadata": {}
    },
    {
      "cell_type": "markdown",
      "source": [
        "## Exploratory Data Analysis"
      ],
      "metadata": {}
    },
    {
      "cell_type": "code",
      "source": [
        "bankCrisis = pd.get_dummies(data['banking_crisis'],drop_first=True)\n",
        "data = pd.concat([data,bankCrisis],axis=1)"
      ],
      "outputs": [],
      "execution_count": 21,
      "metadata": {}
    },
    {
      "cell_type": "code",
      "source": [
        "#sns.pairplot(data)"
      ],
      "outputs": [],
      "execution_count": 22,
      "metadata": {}
    },
    {
      "cell_type": "code",
      "source": [
        "plt.figure(figsize=(9,5))\n",
        "sns.heatmap(data.corr(),annot=True)"
      ],
      "outputs": [
        {
          "output_type": "execute_result",
          "execution_count": 23,
          "data": {
            "text/plain": [
              "<matplotlib.axes._subplots.AxesSubplot at 0x18e55955d88>"
            ]
          },
          "metadata": {}
        },
        {
          "output_type": "display_data",
          "data": {
            "image/png": "[encoded data removed]",
            "text/plain": [
              "<Figure size 648x360 with 2 Axes>"
            ]
          },
          "metadata": {
            "needs_background": "light"
          }
        }
      ],
      "execution_count": 23,
      "metadata": {}
    },
    {
      "cell_type": "code",
      "source": [
        "plt.figure(figsize=(9,7))\n",
        "sns.heatmap(byYearCountry.loc[1932:,:]) #exchange rate"
      ],
      "outputs": [
        {
          "output_type": "execute_result",
          "execution_count": 24,
          "data": {
            "text/plain": [
              "<matplotlib.axes._subplots.AxesSubplot at 0x18e569f37c8>"
            ]
          },
          "metadata": {}
        },
        {
          "output_type": "display_data",
          "data": {
            "image/png": "[encoded data removed]",
            "text/plain": [
              "<Figure size 648x504 with 2 Axes>"
            ]
          },
          "metadata": {
            "needs_background": "light"
          }
        }
      ],
      "execution_count": 24,
      "metadata": {}
    },
    {
      "cell_type": "markdown",
      "source": [
        "observations: central africa has had a high exchange rate for a long time."
      ],
      "metadata": {}
    },
    {
      "cell_type": "code",
      "source": [
        "plt.figure(figsize=(16,5))\n",
        "byYear['exch_usd'].plot()\n",
        "plt.xlim([1940,2014])\n",
        "plt.ylabel('exch rate in usd')\n",
        "plt.title(\"Exchange rate trend in Years in Africa\")\n",
        "plt.tight_layout()"
      ],
      "outputs": [
        {
          "output_type": "display_data",
          "data": {
            "image/png": "[encoded data removed]",
            "text/plain": [
              "<Figure size 1152x360 with 1 Axes>"
            ]
          },
          "metadata": {
            "needs_background": "light"
          }
        }
      ],
      "execution_count": 25,
      "metadata": {}
    },
    {
      "cell_type": "code",
      "source": [
        "plt.figure(figsize=(16,5))\n",
        "byYear['inflation_annual_cpi'].plot()\n",
        "plt.xlim([1940,2014])\n",
        "plt.ylabel('inflation annual cpi')\n",
        "plt.title(\"inflation annual cpi rate trend\")\n",
        "plt.tight_layout()"
      ],
      "outputs": [
        {
          "output_type": "display_data",
          "data": {
            "image/png": "[encoded data removed]",
            "text/plain": [
              "<Figure size 1152x360 with 1 Axes>"
            ]
          },
          "metadata": {
            "needs_background": "light"
          }
        }
      ],
      "execution_count": 26,
      "metadata": {}
    },
    {
      "cell_type": "code",
      "source": [
        "sns.countplot(data['banking_crisis'])"
      ],
      "outputs": [
        {
          "output_type": "execute_result",
          "execution_count": 27,
          "data": {
            "text/plain": [
              "<matplotlib.axes._subplots.AxesSubplot at 0x18e571f6ac8>"
            ]
          },
          "metadata": {}
        },
        {
          "output_type": "display_data",
          "data": {
            "image/png": "[encoded data removed]",
            "text/plain": [
              "<Figure size 432x288 with 1 Axes>"
            ]
          },
          "metadata": {
            "needs_background": "light"
          }
        }
      ],
      "execution_count": 27,
      "metadata": {
        "cell_style": "split"
      }
    },
    {
      "cell_type": "code",
      "source": [
        "sns.countplot(data['systemic_crisis'])"
      ],
      "outputs": [
        {
          "output_type": "execute_result",
          "execution_count": 28,
          "data": {
            "text/plain": [
              "<matplotlib.axes._subplots.AxesSubplot at 0x18e57243b08>"
            ]
          },
          "metadata": {}
        },
        {
          "output_type": "display_data",
          "data": {
            "image/png": "[encoded data removed]",
            "text/plain": [
              "<Figure size 432x288 with 1 Axes>"
            ]
          },
          "metadata": {
            "needs_background": "light"
          }
        }
      ],
      "execution_count": 28,
      "metadata": {
        "cell_style": "split"
      }
    },
    {
      "cell_type": "code",
      "source": [
        "data.head()"
      ],
      "outputs": [
        {
          "output_type": "execute_result",
          "execution_count": 29,
          "data": {
            "text/html": [
              "<div>\n",
              "<style scoped>\n",
              "    .dataframe tbody tr th:only-of-type {\n",
              "        vertical-align: middle;\n",
              "    }\n",
              "\n",
              "    .dataframe tbody tr th {\n",
              "        vertical-align: top;\n",
              "    }\n",
              "\n",
              "    .dataframe thead th {\n",
              "        text-align: right;\n",
              "    }\n",
              "</style>\n",
              "<table border=\"1\" class=\"dataframe\">\n",
              "  <thead>\n",
              "    <tr style=\"text-align: right;\">\n",
              "      <th></th>\n",
              "      <th>country</th>\n",
              "      <th>year</th>\n",
              "      <th>systemic_crisis</th>\n",
              "      <th>exch_usd</th>\n",
              "      <th>domestic_debt_in_default</th>\n",
              "      <th>sovereign_external_debt_default</th>\n",
              "      <th>gdp_weighted_default</th>\n",
              "      <th>inflation_annual_cpi</th>\n",
              "      <th>independence</th>\n",
              "      <th>currency_crises</th>\n",
              "      <th>inflation_crises</th>\n",
              "      <th>banking_crisis</th>\n",
              "      <th>no_crisis</th>\n",
              "    </tr>\n",
              "  </thead>\n",
              "  <tbody>\n",
              "    <tr>\n",
              "      <th>0</th>\n",
              "      <td>Algeria</td>\n",
              "      <td>1870</td>\n",
              "      <td>1</td>\n",
              "      <td>0.052264</td>\n",
              "      <td>0</td>\n",
              "      <td>0</td>\n",
              "      <td>0.0</td>\n",
              "      <td>3.441456</td>\n",
              "      <td>0</td>\n",
              "      <td>0</td>\n",
              "      <td>0</td>\n",
              "      <td>crisis</td>\n",
              "      <td>0</td>\n",
              "    </tr>\n",
              "    <tr>\n",
              "      <th>1</th>\n",
              "      <td>Algeria</td>\n",
              "      <td>1871</td>\n",
              "      <td>0</td>\n",
              "      <td>0.052798</td>\n",
              "      <td>0</td>\n",
              "      <td>0</td>\n",
              "      <td>0.0</td>\n",
              "      <td>14.149140</td>\n",
              "      <td>0</td>\n",
              "      <td>0</td>\n",
              "      <td>0</td>\n",
              "      <td>no_crisis</td>\n",
              "      <td>1</td>\n",
              "    </tr>\n",
              "    <tr>\n",
              "      <th>2</th>\n",
              "      <td>Algeria</td>\n",
              "      <td>1872</td>\n",
              "      <td>0</td>\n",
              "      <td>0.052274</td>\n",
              "      <td>0</td>\n",
              "      <td>0</td>\n",
              "      <td>0.0</td>\n",
              "      <td>-3.718593</td>\n",
              "      <td>0</td>\n",
              "      <td>0</td>\n",
              "      <td>0</td>\n",
              "      <td>no_crisis</td>\n",
              "      <td>1</td>\n",
              "    </tr>\n",
              "    <tr>\n",
              "      <th>3</th>\n",
              "      <td>Algeria</td>\n",
              "      <td>1873</td>\n",
              "      <td>0</td>\n",
              "      <td>0.051680</td>\n",
              "      <td>0</td>\n",
              "      <td>0</td>\n",
              "      <td>0.0</td>\n",
              "      <td>11.203897</td>\n",
              "      <td>0</td>\n",
              "      <td>0</td>\n",
              "      <td>0</td>\n",
              "      <td>no_crisis</td>\n",
              "      <td>1</td>\n",
              "    </tr>\n",
              "    <tr>\n",
              "      <th>4</th>\n",
              "      <td>Algeria</td>\n",
              "      <td>1874</td>\n",
              "      <td>0</td>\n",
              "      <td>0.051308</td>\n",
              "      <td>0</td>\n",
              "      <td>0</td>\n",
              "      <td>0.0</td>\n",
              "      <td>-3.848561</td>\n",
              "      <td>0</td>\n",
              "      <td>0</td>\n",
              "      <td>0</td>\n",
              "      <td>no_crisis</td>\n",
              "      <td>1</td>\n",
              "    </tr>\n",
              "  </tbody>\n",
              "</table>\n",
              "</div>"
            ],
            "text/plain": [
              "   country  year  systemic_crisis  exch_usd  domestic_debt_in_default  \\\n",
              "0  Algeria  1870                1  0.052264                         0   \n",
              "1  Algeria  1871                0  0.052798                         0   \n",
              "2  Algeria  1872                0  0.052274                         0   \n",
              "3  Algeria  1873                0  0.051680                         0   \n",
              "4  Algeria  1874                0  0.051308                         0   \n",
              "\n",
              "   sovereign_external_debt_default  gdp_weighted_default  \\\n",
              "0                                0                   0.0   \n",
              "1                                0                   0.0   \n",
              "2                                0                   0.0   \n",
              "3                                0                   0.0   \n",
              "4                                0                   0.0   \n",
              "\n",
              "   inflation_annual_cpi  independence  currency_crises  inflation_crises  \\\n",
              "0              3.441456             0                0                 0   \n",
              "1             14.149140             0                0                 0   \n",
              "2             -3.718593             0                0                 0   \n",
              "3             11.203897             0                0                 0   \n",
              "4             -3.848561             0                0                 0   \n",
              "\n",
              "  banking_crisis  no_crisis  \n",
              "0         crisis          0  \n",
              "1      no_crisis          1  \n",
              "2      no_crisis          1  \n",
              "3      no_crisis          1  \n",
              "4      no_crisis          1  "
            ]
          },
          "metadata": {}
        }
      ],
      "execution_count": 29,
      "metadata": {}
    },
    {
      "cell_type": "code",
      "source": [
        "most_5Year_Crisis = data.query('banking_crisis == \"crisis\"')['year'].value_counts().head()\n",
        "sns.barplot(x=most_5Year_Crisis.index,y=most_5Year_Crisis.values)"
      ],
      "outputs": [
        {
          "output_type": "execute_result",
          "execution_count": 30,
          "data": {
            "text/plain": [
              "<matplotlib.axes._subplots.AxesSubplot at 0x18e57414388>"
            ]
          },
          "metadata": {}
        },
        {
          "output_type": "display_data",
          "data": {
            "image/png": "[encoded data removed]",
            "text/plain": [
              "<Figure size 432x288 with 1 Axes>"
            ]
          },
          "metadata": {
            "needs_background": "light"
          }
        }
      ],
      "execution_count": 30,
      "metadata": {
        "cell_style": "split"
      }
    },
    {
      "cell_type": "code",
      "source": [
        "most_5Year_noCrisis =data.query('banking_crisis == \"no_crisis\"')['year'].value_counts().head()\n",
        "sns.barplot(x=most_5Year_noCrisis.index,y=most_5Year_noCrisis.values)"
      ],
      "outputs": [
        {
          "output_type": "execute_result",
          "execution_count": 31,
          "data": {
            "text/plain": [
              "<matplotlib.axes._subplots.AxesSubplot at 0x18e5748f448>"
            ]
          },
          "metadata": {}
        },
        {
          "output_type": "display_data",
          "data": {
            "image/png": "[encoded data removed]",
            "text/plain": [
              "<Figure size 432x288 with 1 Axes>"
            ]
          },
          "metadata": {
            "needs_background": "light"
          }
        }
      ],
      "execution_count": 31,
      "metadata": {
        "cell_style": "split"
      }
    },
    {
      "cell_type": "markdown",
      "source": [
        "observations:years which had most crisis and no crisis"
      ],
      "metadata": {}
    },
    {
      "cell_type": "code",
      "source": [
        "data.head()"
      ],
      "outputs": [
        {
          "output_type": "execute_result",
          "execution_count": 32,
          "data": {
            "text/html": [
              "<div>\n",
              "<style scoped>\n",
              "    .dataframe tbody tr th:only-of-type {\n",
              "        vertical-align: middle;\n",
              "    }\n",
              "\n",
              "    .dataframe tbody tr th {\n",
              "        vertical-align: top;\n",
              "    }\n",
              "\n",
              "    .dataframe thead th {\n",
              "        text-align: right;\n",
              "    }\n",
              "</style>\n",
              "<table border=\"1\" class=\"dataframe\">\n",
              "  <thead>\n",
              "    <tr style=\"text-align: right;\">\n",
              "      <th></th>\n",
              "      <th>country</th>\n",
              "      <th>year</th>\n",
              "      <th>systemic_crisis</th>\n",
              "      <th>exch_usd</th>\n",
              "      <th>domestic_debt_in_default</th>\n",
              "      <th>sovereign_external_debt_default</th>\n",
              "      <th>gdp_weighted_default</th>\n",
              "      <th>inflation_annual_cpi</th>\n",
              "      <th>independence</th>\n",
              "      <th>currency_crises</th>\n",
              "      <th>inflation_crises</th>\n",
              "      <th>banking_crisis</th>\n",
              "      <th>no_crisis</th>\n",
              "    </tr>\n",
              "  </thead>\n",
              "  <tbody>\n",
              "    <tr>\n",
              "      <th>0</th>\n",
              "      <td>Algeria</td>\n",
              "      <td>1870</td>\n",
              "      <td>1</td>\n",
              "      <td>0.052264</td>\n",
              "      <td>0</td>\n",
              "      <td>0</td>\n",
              "      <td>0.0</td>\n",
              "      <td>3.441456</td>\n",
              "      <td>0</td>\n",
              "      <td>0</td>\n",
              "      <td>0</td>\n",
              "      <td>crisis</td>\n",
              "      <td>0</td>\n",
              "    </tr>\n",
              "    <tr>\n",
              "      <th>1</th>\n",
              "      <td>Algeria</td>\n",
              "      <td>1871</td>\n",
              "      <td>0</td>\n",
              "      <td>0.052798</td>\n",
              "      <td>0</td>\n",
              "      <td>0</td>\n",
              "      <td>0.0</td>\n",
              "      <td>14.149140</td>\n",
              "      <td>0</td>\n",
              "      <td>0</td>\n",
              "      <td>0</td>\n",
              "      <td>no_crisis</td>\n",
              "      <td>1</td>\n",
              "    </tr>\n",
              "    <tr>\n",
              "      <th>2</th>\n",
              "      <td>Algeria</td>\n",
              "      <td>1872</td>\n",
              "      <td>0</td>\n",
              "      <td>0.052274</td>\n",
              "      <td>0</td>\n",
              "      <td>0</td>\n",
              "      <td>0.0</td>\n",
              "      <td>-3.718593</td>\n",
              "      <td>0</td>\n",
              "      <td>0</td>\n",
              "      <td>0</td>\n",
              "      <td>no_crisis</td>\n",
              "      <td>1</td>\n",
              "    </tr>\n",
              "    <tr>\n",
              "      <th>3</th>\n",
              "      <td>Algeria</td>\n",
              "      <td>1873</td>\n",
              "      <td>0</td>\n",
              "      <td>0.051680</td>\n",
              "      <td>0</td>\n",
              "      <td>0</td>\n",
              "      <td>0.0</td>\n",
              "      <td>11.203897</td>\n",
              "      <td>0</td>\n",
              "      <td>0</td>\n",
              "      <td>0</td>\n",
              "      <td>no_crisis</td>\n",
              "      <td>1</td>\n",
              "    </tr>\n",
              "    <tr>\n",
              "      <th>4</th>\n",
              "      <td>Algeria</td>\n",
              "      <td>1874</td>\n",
              "      <td>0</td>\n",
              "      <td>0.051308</td>\n",
              "      <td>0</td>\n",
              "      <td>0</td>\n",
              "      <td>0.0</td>\n",
              "      <td>-3.848561</td>\n",
              "      <td>0</td>\n",
              "      <td>0</td>\n",
              "      <td>0</td>\n",
              "      <td>no_crisis</td>\n",
              "      <td>1</td>\n",
              "    </tr>\n",
              "  </tbody>\n",
              "</table>\n",
              "</div>"
            ],
            "text/plain": [
              "   country  year  systemic_crisis  exch_usd  domestic_debt_in_default  \\\n",
              "0  Algeria  1870                1  0.052264                         0   \n",
              "1  Algeria  1871                0  0.052798                         0   \n",
              "2  Algeria  1872                0  0.052274                         0   \n",
              "3  Algeria  1873                0  0.051680                         0   \n",
              "4  Algeria  1874                0  0.051308                         0   \n",
              "\n",
              "   sovereign_external_debt_default  gdp_weighted_default  \\\n",
              "0                                0                   0.0   \n",
              "1                                0                   0.0   \n",
              "2                                0                   0.0   \n",
              "3                                0                   0.0   \n",
              "4                                0                   0.0   \n",
              "\n",
              "   inflation_annual_cpi  independence  currency_crises  inflation_crises  \\\n",
              "0              3.441456             0                0                 0   \n",
              "1             14.149140             0                0                 0   \n",
              "2             -3.718593             0                0                 0   \n",
              "3             11.203897             0                0                 0   \n",
              "4             -3.848561             0                0                 0   \n",
              "\n",
              "  banking_crisis  no_crisis  \n",
              "0         crisis          0  \n",
              "1      no_crisis          1  \n",
              "2      no_crisis          1  \n",
              "3      no_crisis          1  \n",
              "4      no_crisis          1  "
            ]
          },
          "metadata": {}
        }
      ],
      "execution_count": 32,
      "metadata": {}
    },
    {
      "cell_type": "code",
      "source": [
        "sns.kdeplot(data['gdp_weighted_default'])"
      ],
      "outputs": [
        {
          "output_type": "execute_result",
          "execution_count": 33,
          "data": {
            "text/plain": [
              "<matplotlib.axes._subplots.AxesSubplot at 0x18e574f2b08>"
            ]
          },
          "metadata": {}
        },
        {
          "output_type": "display_data",
          "data": {
            "image/png": "[encoded data removed]",
            "text/plain": [
              "<Figure size 432x288 with 1 Axes>"
            ]
          },
          "metadata": {
            "needs_background": "light"
          }
        }
      ],
      "execution_count": 33,
      "metadata": {
        "cell_style": "split"
      }
    },
    {
      "cell_type": "code",
      "source": [
        "sns.kdeplot(data['inflation_annual_cpi'])"
      ],
      "outputs": [
        {
          "output_type": "execute_result",
          "execution_count": 34,
          "data": {
            "text/plain": [
              "<matplotlib.axes._subplots.AxesSubplot at 0x18e57161988>"
            ]
          },
          "metadata": {}
        },
        {
          "output_type": "display_data",
          "data": {
            "image/png": "[encoded data removed]",
            "text/plain": [
              "<Figure size 432x288 with 1 Axes>"
            ]
          },
          "metadata": {
            "needs_background": "light"
          }
        }
      ],
      "execution_count": 34,
      "metadata": {
        "cell_style": "split"
      }
    },
    {
      "cell_type": "code",
      "source": [
        "sns.scatterplot(data=data,x='exch_usd',y='inflation_annual_cpi')\n",
        "plt.ylim(0,1e3)"
      ],
      "outputs": [
        {
          "output_type": "execute_result",
          "execution_count": 35,
          "data": {
            "text/plain": [
              "(0, 1000.0)"
            ]
          },
          "metadata": {}
        },
        {
          "output_type": "display_data",
          "data": {
            "image/png": "[encoded data removed]",
            "text/plain": [
              "<Figure size 432x288 with 1 Axes>"
            ]
          },
          "metadata": {
            "needs_background": "light"
          }
        }
      ],
      "execution_count": 35,
      "metadata": {}
    },
    {
      "cell_type": "code",
      "source": [],
      "outputs": [],
      "execution_count": null,
      "metadata": {}
    }
  ],
  "metadata": {
    "hide_input": false,
    "kernelspec": {
      "name": "python3",
      "language": "python",
      "display_name": "Python 3"
    },
    "language_info": {
      "name": "python",
      "version": "3.7.4",
      "mimetype": "text/x-python",
      "codemirror_mode": {
        "name": "ipython",
        "version": 3
      },
      "pygments_lexer": "ipython3",
      "nbconvert_exporter": "python",
      "file_extension": ".py"
    },
    "kernel_info": {
      "name": "python3"
    },
    "nteract": {
      "version": "0.15.0"
    }
  },
  "nbformat": 4,
  "nbformat_minor": 2
}