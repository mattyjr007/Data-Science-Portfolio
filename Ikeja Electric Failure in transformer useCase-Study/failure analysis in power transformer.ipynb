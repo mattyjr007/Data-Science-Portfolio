{
 "cells": [
  {
   "cell_type": "markdown",
   "id": "5a9ad547",
   "metadata": {},
   "source": [
    "# Failure In Faulty Transformer Analysis\n",
    "<img src='transformer_img.png'>"
   ]
  },
  {
   "cell_type": "markdown",
   "id": "cc14f4c8",
   "metadata": {},
   "source": [
    "<h3> <strong>Context </strong> </h3>\n",
    "<hr>\n",
    "A transformer can fail for a variety of reasons, but the most common causes include lightning strikes, overloading, wear and corrosion, power surges, and moisture. Regardless of the cause, the result can be remarkable. Transformers contain mineral oil keeping the transformer cool. When it becomes overcharged, the wiring can create heat and a spark. This massive overpressure may eventually cause the transformer to rupture with a loud boom, flash, and possibly a fireball that can create a large plume of smoke that can be seen from a long distance.\n",
    "\n",
    "\n",
    "<h3> <strong>Content </strong> </h3>\n",
    "<hr>\n",
    "Health index and power transformers result in a CSV file with 16 features. All Features are self-explanatory.\n",
    "\n",
    "<h3> <strong>Acknowledgements </strong> </h3>\n",
    "<hr>\n",
    "Arias Velásquez, Ricardo Manuel; Mejia Lara, Jennifer (2020), “Data for: Root cause analysis improved with machine learning for failure analysis in power transformers”, Mendeley Data, V1, doi: 10.17632/rz75w3fkxy.1"
   ]
  },
  {
   "cell_type": "markdown",
   "id": "1e959151",
   "metadata": {},
   "source": [
    "## Import libraries"
   ]
  },
  {
   "cell_type": "code",
   "execution_count": 1,
   "id": "ed483d92",
   "metadata": {
    "execution": {
     "iopub.execute_input": "2021-08-18T21:26:59.617672Z",
     "iopub.status.busy": "2021-08-18T21:26:59.617672Z",
     "iopub.status.idle": "2021-08-18T21:27:00.852542Z",
     "shell.execute_reply": "2021-08-18T21:27:00.852542Z",
     "shell.execute_reply.started": "2021-08-18T21:26:59.617672Z"
    }
   },
   "outputs": [],
   "source": [
    "import numpy as np\n",
    "import pandas as pd\n",
    "import seaborn as sns\n",
    "import matplotlib . pyplot as plt\n",
    "sns.set_style('darkgrid')\n",
    "flatui = [\"#9b59b6\", \"#3498db\", \"#95a5a6\", \"#e74c3c\", \"#34495e\", \"#2ecc71\"]\n",
    "sns.set_palette(flatui)\n",
    "import plotly.express as px\n",
    "import plotly.io as pio\n",
    "pio.renderers.default='notebook'"
   ]
  },
  {
   "cell_type": "code",
   "execution_count": 2,
   "id": "9fa90e89",
   "metadata": {},
   "outputs": [],
   "source": [
    "# create data dictionary to extract/quick lookup on data feature meaning."
   ]
  },
  {
   "cell_type": "code",
   "execution_count": 3,
   "id": "1ef42f67",
   "metadata": {
    "execution": {
     "iopub.execute_input": "2021-08-18T21:27:02.988785Z",
     "iopub.status.busy": "2021-08-18T21:27:02.987788Z",
     "iopub.status.idle": "2021-08-18T21:27:03.832692Z",
     "shell.execute_reply": "2021-08-18T21:27:03.831502Z",
     "shell.execute_reply.started": "2021-08-18T21:27:02.988785Z"
    }
   },
   "outputs": [],
   "source": [
    "#load the data\n",
    "data = pd.read_csv('Health index1.csv')"
   ]
  },
  {
   "cell_type": "code",
   "execution_count": 4,
   "id": "716a2eeb",
   "metadata": {},
   "outputs": [
    {
     "data": {
      "text/html": [
       "<div>\n",
       "<style scoped>\n",
       "    .dataframe tbody tr th:only-of-type {\n",
       "        vertical-align: middle;\n",
       "    }\n",
       "\n",
       "    .dataframe tbody tr th {\n",
       "        vertical-align: top;\n",
       "    }\n",
       "\n",
       "    .dataframe thead th {\n",
       "        text-align: right;\n",
       "    }\n",
       "</style>\n",
       "<table border=\"1\" class=\"dataframe\">\n",
       "  <thead>\n",
       "    <tr style=\"text-align: right;\">\n",
       "      <th></th>\n",
       "      <th>Hydrogen</th>\n",
       "      <th>Oxigen</th>\n",
       "      <th>Nitrogen</th>\n",
       "      <th>Methane</th>\n",
       "      <th>CO</th>\n",
       "      <th>CO2</th>\n",
       "      <th>Ethylene</th>\n",
       "      <th>Ethane</th>\n",
       "      <th>Acethylene</th>\n",
       "      <th>DBDS</th>\n",
       "      <th>Power factor</th>\n",
       "      <th>Interfacial V</th>\n",
       "      <th>Dielectric rigidity</th>\n",
       "      <th>Water content</th>\n",
       "      <th>Health index</th>\n",
       "      <th>Life expectation</th>\n",
       "    </tr>\n",
       "  </thead>\n",
       "  <tbody>\n",
       "    <tr>\n",
       "      <th>0</th>\n",
       "      <td>2845</td>\n",
       "      <td>5860</td>\n",
       "      <td>27842</td>\n",
       "      <td>7406</td>\n",
       "      <td>32</td>\n",
       "      <td>1344</td>\n",
       "      <td>16684</td>\n",
       "      <td>5467</td>\n",
       "      <td>7</td>\n",
       "      <td>19.0</td>\n",
       "      <td>1.00</td>\n",
       "      <td>45</td>\n",
       "      <td>55</td>\n",
       "      <td>0</td>\n",
       "      <td>95.2</td>\n",
       "      <td>19.0</td>\n",
       "    </tr>\n",
       "    <tr>\n",
       "      <th>1</th>\n",
       "      <td>12886</td>\n",
       "      <td>61</td>\n",
       "      <td>25041</td>\n",
       "      <td>877</td>\n",
       "      <td>83</td>\n",
       "      <td>864</td>\n",
       "      <td>4</td>\n",
       "      <td>305</td>\n",
       "      <td>0</td>\n",
       "      <td>45.0</td>\n",
       "      <td>1.00</td>\n",
       "      <td>45</td>\n",
       "      <td>55</td>\n",
       "      <td>0</td>\n",
       "      <td>85.5</td>\n",
       "      <td>19.0</td>\n",
       "    </tr>\n",
       "    <tr>\n",
       "      <th>2</th>\n",
       "      <td>2820</td>\n",
       "      <td>16400</td>\n",
       "      <td>56300</td>\n",
       "      <td>144</td>\n",
       "      <td>257</td>\n",
       "      <td>1080</td>\n",
       "      <td>206</td>\n",
       "      <td>11</td>\n",
       "      <td>2190</td>\n",
       "      <td>1.0</td>\n",
       "      <td>1.00</td>\n",
       "      <td>39</td>\n",
       "      <td>52</td>\n",
       "      <td>11</td>\n",
       "      <td>85.3</td>\n",
       "      <td>19.0</td>\n",
       "    </tr>\n",
       "    <tr>\n",
       "      <th>3</th>\n",
       "      <td>1099</td>\n",
       "      <td>70</td>\n",
       "      <td>37520</td>\n",
       "      <td>545</td>\n",
       "      <td>184</td>\n",
       "      <td>1402</td>\n",
       "      <td>6</td>\n",
       "      <td>230</td>\n",
       "      <td>0</td>\n",
       "      <td>87.0</td>\n",
       "      <td>4.58</td>\n",
       "      <td>33</td>\n",
       "      <td>49</td>\n",
       "      <td>5</td>\n",
       "      <td>85.3</td>\n",
       "      <td>6.0</td>\n",
       "    </tr>\n",
       "    <tr>\n",
       "      <th>4</th>\n",
       "      <td>3210</td>\n",
       "      <td>3570</td>\n",
       "      <td>47900</td>\n",
       "      <td>160</td>\n",
       "      <td>360</td>\n",
       "      <td>2130</td>\n",
       "      <td>4</td>\n",
       "      <td>43</td>\n",
       "      <td>4</td>\n",
       "      <td>1.0</td>\n",
       "      <td>0.77</td>\n",
       "      <td>44</td>\n",
       "      <td>55</td>\n",
       "      <td>3</td>\n",
       "      <td>85.2</td>\n",
       "      <td>6.0</td>\n",
       "    </tr>\n",
       "  </tbody>\n",
       "</table>\n",
       "</div>"
      ],
      "text/plain": [
       "   Hydrogen  Oxigen  Nitrogen  Methane   CO   CO2  Ethylene  Ethane  \\\n",
       "0      2845    5860     27842     7406   32  1344     16684    5467   \n",
       "1     12886      61     25041      877   83   864         4     305   \n",
       "2      2820   16400     56300      144  257  1080       206      11   \n",
       "3      1099      70     37520      545  184  1402         6     230   \n",
       "4      3210    3570     47900      160  360  2130         4      43   \n",
       "\n",
       "   Acethylene  DBDS  Power factor  Interfacial V  Dielectric rigidity  \\\n",
       "0           7  19.0          1.00             45                   55   \n",
       "1           0  45.0          1.00             45                   55   \n",
       "2        2190   1.0          1.00             39                   52   \n",
       "3           0  87.0          4.58             33                   49   \n",
       "4           4   1.0          0.77             44                   55   \n",
       "\n",
       "   Water content  Health index  Life expectation  \n",
       "0              0          95.2              19.0  \n",
       "1              0          85.5              19.0  \n",
       "2             11          85.3              19.0  \n",
       "3              5          85.3               6.0  \n",
       "4              3          85.2               6.0  "
      ]
     },
     "execution_count": 4,
     "metadata": {},
     "output_type": "execute_result"
    }
   ],
   "source": [
    "data.head()"
   ]
  },
  {
   "cell_type": "code",
   "execution_count": 5,
   "id": "9e8552d7",
   "metadata": {},
   "outputs": [
    {
     "name": "stdout",
     "output_type": "stream",
     "text": [
      "<class 'pandas.core.frame.DataFrame'>\n",
      "RangeIndex: 470 entries, 0 to 469\n",
      "Data columns (total 16 columns):\n",
      " #   Column               Non-Null Count  Dtype  \n",
      "---  ------               --------------  -----  \n",
      " 0   Hydrogen             470 non-null    int64  \n",
      " 1   Oxigen               470 non-null    int64  \n",
      " 2   Nitrogen             470 non-null    int64  \n",
      " 3   Methane              470 non-null    int64  \n",
      " 4   CO                   470 non-null    int64  \n",
      " 5   CO2                  470 non-null    int64  \n",
      " 6   Ethylene             470 non-null    int64  \n",
      " 7   Ethane               470 non-null    int64  \n",
      " 8   Acethylene           470 non-null    int64  \n",
      " 9   DBDS                 470 non-null    float64\n",
      " 10  Power factor         470 non-null    float64\n",
      " 11  Interfacial V        470 non-null    int64  \n",
      " 12  Dielectric rigidity  470 non-null    int64  \n",
      " 13  Water content        470 non-null    int64  \n",
      " 14  Health index         470 non-null    float64\n",
      " 15  Life expectation     470 non-null    float64\n",
      "dtypes: float64(4), int64(12)\n",
      "memory usage: 58.9 KB\n"
     ]
    }
   ],
   "source": [
    "data.info()"
   ]
  },
  {
   "cell_type": "markdown",
   "id": "05fdc2fc",
   "metadata": {},
   "source": [
    "**Create the data dictionary**"
   ]
  },
  {
   "cell_type": "code",
   "execution_count": 6,
   "id": "7ab53309",
   "metadata": {},
   "outputs": [],
   "source": [
    "# prepare the \n",
    "data_dict = dict()\n",
    "for item in data.columns:\n",
    "    data_dict[item] = item +' in transformer'"
   ]
  },
  {
   "cell_type": "code",
   "execution_count": 7,
   "id": "818b52de",
   "metadata": {},
   "outputs": [
    {
     "data": {
      "text/plain": [
       "{'Hydrogen': 'Hydrogen in transformer',\n",
       " 'Oxigen': 'Oxigen in transformer',\n",
       " 'Nitrogen': 'Nitrogen in transformer',\n",
       " 'Methane': 'Methane in transformer',\n",
       " 'CO': 'CO in transformer',\n",
       " 'CO2': 'CO2 in transformer',\n",
       " 'Ethylene': 'Ethylene in transformer',\n",
       " 'Ethane': 'Ethane in transformer',\n",
       " 'Acethylene': 'Acethylene in transformer',\n",
       " 'DBDS': 'DBDS in transformer',\n",
       " 'Power factor': 'Power factor in transformer',\n",
       " 'Interfacial V': 'Interfacial V in transformer',\n",
       " 'Dielectric rigidity': 'Dielectric rigidity in transformer',\n",
       " 'Water content': 'Water content in transformer',\n",
       " 'Health index': 'Health index in transformer',\n",
       " 'Life expectation': 'Life expectation in transformer'}"
      ]
     },
     "execution_count": 7,
     "metadata": {},
     "output_type": "execute_result"
    }
   ],
   "source": [
    "data_dict"
   ]
  },
  {
   "cell_type": "code",
   "execution_count": 8,
   "id": "a8da3f67",
   "metadata": {},
   "outputs": [],
   "source": [
    "data_dict['Dielectric rigidity'] = 'The Dielectric strength of transformer oil is also known as the breakdown voltage of the transformer oil.  “Breakdown Voltage” (BDV) is measured by observing the voltage that is required to jump a spark between two electrodes immersed in the oil separated by a specific gap or distance'\n",
    "data_dict['Power factor'] = 'Power factior is the ratio of real power flowing to the load and apparent power to the circuit.'\n",
    "data_dict['DBDS'] = 'Dibenzyl Disulfide (DBDS) is one of several sulfur compounds known to cause copper corrosion in transformers. Breakdown of the DBDS to benzyl mercaptan or a DBDS-Copper complex can still cause corrosion of copper and the formation of copper sulfide'\n",
    "data_dict['Interfacial V'] = 'Interfacial tension describes the tension of the interface between two liquids, in this case between water and oil.'\n",
    "data_dict['Health index'] = 'Health / global state of power transformer scale 0-100'"
   ]
  },
  {
   "cell_type": "code",
   "execution_count": null,
   "id": "71774cff",
   "metadata": {},
   "outputs": [],
   "source": []
  }
 ],
 "metadata": {
  "hide_input": false,
  "kernelspec": {
   "display_name": "Python 3",
   "language": "python",
   "name": "python3"
  },
  "language_info": {
   "codemirror_mode": {
    "name": "ipython",
    "version": 3
   },
   "file_extension": ".py",
   "mimetype": "text/x-python",
   "name": "python",
   "nbconvert_exporter": "python",
   "pygments_lexer": "ipython3",
   "version": "3.8.10"
  }
 },
 "nbformat": 4,
 "nbformat_minor": 5
}
